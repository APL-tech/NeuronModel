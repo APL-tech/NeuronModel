{
 "cells": [
  {
   "cell_type": "code",
   "execution_count": 2,
   "metadata": {},
   "outputs": [],
   "source": [
    "import networkx as nx\n"
   ]
  },
  {
   "cell_type": "code",
   "execution_count": 31,
   "metadata": {},
   "outputs": [],
   "source": [
    "def xn_act_fun(x):\n",
    "    n = len(x)\n",
    "    # Sum of history\n",
    "    s = 0\n",
    "    for r in range(n):\n",
    "        s += (b**-(r) * x[n-r-1]) - theta\n",
    "\n",
    "    xn = A - alpha * s\n",
    "    \n",
    "    # Activation\n",
    "    if xn >= 0:\n",
    "        return 1\n",
    "    else:\n",
    "        return 0"
   ]
  },
  {
   "cell_type": "code",
   "execution_count": 32,
   "metadata": {},
   "outputs": [],
   "source": [
    "# Define variables and make graph\n",
    "A = 0.2  \n",
    "a = 0.5    # magnitude of input stimulus\n",
    "b = 2\n",
    "alpha = 1\n",
    "theta = 0.2\n",
    "\n",
    "G = nx.Graph()\n",
    "X = []\n",
    "Y = []\n",
    "G.add_node(1, act_hist = X)\n",
    "G.add_node(2, act_hist = Y)\n",
    "G.add_edge(1,2)"
   ]
  },
  {
   "cell_type": "code",
   "execution_count": 33,
   "metadata": {},
   "outputs": [],
   "source": [
    "# Iterate n times\n",
    "X = [0,0,0,0,0]\n",
    "Y = [0];\n",
    "n = len(X)\n",
    "\n",
    "Y.append(xn_act_fun(X))\n"
   ]
  },
  {
   "cell_type": "code",
   "execution_count": 30,
   "metadata": {},
   "outputs": [
    {
     "data": {
      "text/plain": [
       "[0, 1]"
      ]
     },
     "execution_count": 30,
     "metadata": {},
     "output_type": "execute_result"
    }
   ],
   "source": [
    "Y"
   ]
  },
  {
   "cell_type": "code",
   "execution_count": null,
   "metadata": {},
   "outputs": [],
   "source": []
  }
 ],
 "metadata": {
  "kernelspec": {
   "display_name": "Python 3.9.1 64-bit",
   "language": "python",
   "name": "python3"
  },
  "language_info": {
   "codemirror_mode": {
    "name": "ipython",
    "version": 3
   },
   "file_extension": ".py",
   "mimetype": "text/x-python",
   "name": "python",
   "nbconvert_exporter": "python",
   "pygments_lexer": "ipython3",
   "version": "3.9.1"
  },
  "orig_nbformat": 4,
  "vscode": {
   "interpreter": {
    "hash": "aee8b7b246df8f9039afb4144a1f6fd8d2ca17a180786b69acc140d282b71a49"
   }
  }
 },
 "nbformat": 4,
 "nbformat_minor": 2
}
