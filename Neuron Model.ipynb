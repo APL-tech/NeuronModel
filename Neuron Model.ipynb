{
 "cells": [
  {
   "cell_type": "code",
   "execution_count": 2,
   "metadata": {},
   "outputs": [],
   "source": [
    "import networkx as nx\n"
   ]
  },
  {
   "cell_type": "code",
   "execution_count": 100,
   "metadata": {},
   "outputs": [],
   "source": [
    "def xn_act_fun(x,y):\n",
    "    n = len(y)\n",
    "    \n",
    "    # Sum of history\n",
    "    s = 0\n",
    "    for r in range(n):\n",
    "        s += (b**-(r) * y[n-r-1])\n",
    "\n",
    "    # Update A based on last neuron\n",
    "    if x[n] == 1:\n",
    "        A = 1\n",
    "    else:\n",
    "        A = 0\n",
    "\n",
    "    #Activation of Y\n",
    "    xn = A*a - alpha * s - theta\n",
    "    \n",
    "    if xn >= 0:\n",
    "        return 1\n",
    "    else:\n",
    "        return 0"
   ]
  },
  {
   "cell_type": "code",
   "execution_count": 122,
   "metadata": {},
   "outputs": [],
   "source": [
    "# Define variables and make graph\n",
    "a = 0.9           # Magnitude of stimulus\n",
    "b = 1.2         # Weight of History\n",
    "alpha = 0.1    # Sum parameter\n",
    "theta = 0.7    # threshold value\n",
    "\n",
    "G = nx.Graph()\n",
    "# Independent Neuron \n",
    "X = []\n",
    "# Dependent Nueron\n",
    "Y = []\n",
    "G.add_node(1, act_hist = X)\n",
    "G.add_node(2, act_hist = Y)\n",
    "G.add_edge(1,2)"
   ]
  },
  {
   "cell_type": "code",
   "execution_count": 123,
   "metadata": {},
   "outputs": [
    {
     "data": {
      "text/plain": [
       "[1, 1, 1, 0, 0, 1, 0, 0, 1, 0]"
      ]
     },
     "execution_count": 123,
     "metadata": {},
     "output_type": "execute_result"
    }
   ],
   "source": [
    "# Testing and Experiments\n",
    "# Iterate X times\n",
    "X = [1,1,1,1,1,1,1,1,1,1]\n",
    "Y = []\n",
    "\n",
    "for i in range(len(X)):\n",
    "    Y.append(xn_act_fun(X,Y))\n",
    "\n",
    "Y\n"
   ]
  },
  {
   "cell_type": "code",
   "execution_count": null,
   "metadata": {},
   "outputs": [],
   "source": [
    "# TODO: parameter search a,b based on average firing rate"
   ]
  }
 ],
 "metadata": {
  "kernelspec": {
   "display_name": "Python 3.9.1 64-bit",
   "language": "python",
   "name": "python3"
  },
  "language_info": {
   "codemirror_mode": {
    "name": "ipython",
    "version": 3
   },
   "file_extension": ".py",
   "mimetype": "text/x-python",
   "name": "python",
   "nbconvert_exporter": "python",
   "pygments_lexer": "ipython3",
   "version": "3.9.1"
  },
  "orig_nbformat": 4,
  "vscode": {
   "interpreter": {
    "hash": "aee8b7b246df8f9039afb4144a1f6fd8d2ca17a180786b69acc140d282b71a49"
   }
  }
 },
 "nbformat": 4,
 "nbformat_minor": 2
}
