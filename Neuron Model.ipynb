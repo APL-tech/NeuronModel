{
 "cells": [
  {
   "cell_type": "code",
   "execution_count": 1,
   "metadata": {},
   "outputs": [],
   "source": [
    "import networkx as nx\n",
    "import numpy as np"
   ]
  },
  {
   "cell_type": "code",
   "execution_count": 2,
   "metadata": {},
   "outputs": [],
   "source": [
    "def xn_act_fun(x,a):\n",
    "    y = []\n",
    "    \n",
    "    for j in range(len(x)):\n",
    "      n = len(y)\n",
    "      # Sum of history\n",
    "      s = 0\n",
    "      for r in range(j):\n",
    "        s += (b**-(r) * y[n-r-1])\n",
    "\n",
    "      #Activation of Y\n",
    "      xn = x[n]*a - alpha * s - theta\n",
    "    \n",
    "      if xn >= 0:\n",
    "        y.append(1)\n",
    "      else:\n",
    "        y.append(0)\n",
    "    return y"
   ]
  },
  {
   "cell_type": "code",
   "execution_count": 3,
   "metadata": {},
   "outputs": [],
   "source": [
    "def xn_act_fun_two_inputs(x,y):\n",
    "    z = []\n",
    "\n",
    "    if len(x) != len(y):\n",
    "      print('Error: inputs are not the same length')\n",
    "      return [];\n",
    "    \n",
    "    for j in range(len(x)):\n",
    "      n = len(z)\n",
    "      # Sum of history\n",
    "      s = 0\n",
    "      for r in range(j):\n",
    "        s += (b**-(r) * z[n-r-1])\n",
    "\n",
    "      #Activation of Z\n",
    "      xn = (x[n] + y[n])*a - alpha * s - theta\n",
    "    \n",
    "      if xn >= 0:\n",
    "        z.append(1)\n",
    "      else:\n",
    "        z.append(0)\n",
    "    return z"
   ]
  },
  {
   "cell_type": "code",
   "execution_count": 4,
   "metadata": {},
   "outputs": [],
   "source": [
    "# Define variables and make graph\n",
    "a = 0.68277      # Magnitude of stimulus\n",
    "b = 1.1        # Weight of History\n",
    "alpha = 0.1    # Sum parameter\n",
    "theta = 0.4    # threshold value\n",
    "\n",
    "G = nx.Graph()\n",
    "# Independent Neuron\n",
    "X = []\n",
    "# Dependent Neuron\n",
    "Y = []\n",
    "G.add_node(1, act_hist = X)\n",
    "G.add_node(2, act_hist = Y)\n",
    "G.add_edge(1,2)"
   ]
  },
  {
   "cell_type": "code",
   "execution_count": 5,
   "metadata": {},
   "outputs": [
    {
     "name": "stdout",
     "output_type": "stream",
     "text": [
      "Neuron chain\n",
      "[1, 1, 1, 1, 0, 0, 0, 1, 0, 0, 1, 0, 0, 0, 1, 0, 0, 1, 0, 0, 0, 1, 0, 0, 0, 1, 0, 0, 1, 0, 0, 0, 1, 0, 0, 1, 0, 0, 0, 1, 0, 0, 0, 1, 0, 0, 1, 0, 0, 0]\n",
      "[1, 1, 1, 1, 0, 0, 0, 1, 0, 0, 1, 0, 0, 0, 1, 0, 0, 1, 0, 0, 0, 1, 0, 0, 0, 1, 0, 0, 1, 0, 0, 0, 1, 0, 0, 1, 0, 0, 0, 1, 0, 0, 0, 1, 0, 0, 1, 0, 0, 0]\n",
      "[1, 1, 1, 1, 0, 0, 0, 1, 0, 0, 1, 0, 0, 0, 1, 0, 0, 1, 0, 0, 0, 1, 0, 0, 0, 1, 0, 0, 1, 0, 0, 0, 1, 0, 0, 1, 0, 0, 0, 1, 0, 0, 0, 1, 0, 0, 1, 0, 0, 0]\n",
      "Split neurons\n",
      "[1, 1, 1, 1, 0, 0, 0, 1, 0, 0, 1, 0, 0, 0, 1, 0, 0, 1, 0, 0, 0, 1, 0, 0, 0, 1, 0, 0, 1, 0, 0, 0, 1, 0, 0, 1, 0, 0, 0, 1, 0, 0, 0, 1, 0, 0, 1, 0, 0, 0]\n",
      "[1, 1, 1, 1, 0, 0, 0, 1, 0, 0, 1, 0, 0, 0, 1, 0, 0, 1, 0, 0, 0, 1, 0, 0, 0, 1, 0, 0, 1, 0, 0, 0, 1, 0, 0, 1, 0, 0, 0, 1, 0, 0, 0, 1, 0, 0, 1, 0, 0, 0]\n",
      "[1, 1, 1, 0, 0, 0, 0, 1, 0, 0, 1, 0, 0, 0, 1, 0, 0, 1, 0, 0, 0, 1, 0, 0, 0, 1, 0, 0, 1, 0, 0, 0, 1, 0, 0, 0, 0, 0, 0, 1, 0, 0, 0, 1, 0, 0, 1, 0, 0, 0]\n",
      "[1, 1, 1, 1, 0, 0, 0, 1, 0, 0, 1, 0, 0, 0, 1, 0, 0, 1, 0, 0, 0, 1, 0, 0, 0, 1, 0, 0, 1, 0, 0, 0, 1, 0, 0, 1, 0, 0, 0, 1, 0, 0, 0, 1, 0, 0, 1, 0, 0, 0]\n"
     ]
    }
   ],
   "source": [
    "# Testing and Experiments\n",
    "input_neuron = np.ones(50); # Fires every time\n",
    "\n",
    "# Neuron chain\n",
    "X = xn_act_fun(input_neuron,a)\n",
    "Y = xn_act_fun(X,a)\n",
    "Z = xn_act_fun(Y,a)\n",
    "\n",
    "print('Neuron chain')\n",
    "print(X)\n",
    "print(Y)\n",
    "print(Z)\n",
    "\n",
    "# Split neurons\n",
    "W = xn_act_fun(input_neuron,a)\n",
    "X = xn_act_fun(W,a)\n",
    "Y = xn_act_fun(W,0.67)\n",
    "Z = xn_act_fun_two_inputs(X,Y)\n",
    "print('Split neurons')\n",
    "print(W)\n",
    "print(X)\n",
    "print(Y)\n",
    "print(Z)\n",
    "\n"
   ]
  },
  {
   "cell_type": "code",
   "execution_count": null,
   "metadata": {},
   "outputs": [],
   "source": [
    "# TODO: parameter search a,b based on average firing rate"
   ]
  }
 ],
 "metadata": {
  "kernelspec": {
   "display_name": "Python 3.9.1 64-bit",
   "language": "python",
   "name": "python3"
  },
  "language_info": {
   "codemirror_mode": {
    "name": "ipython",
    "version": 3
   },
   "file_extension": ".py",
   "mimetype": "text/x-python",
   "name": "python",
   "nbconvert_exporter": "python",
   "pygments_lexer": "ipython3",
   "version": "3.9.1"
  },
  "orig_nbformat": 4,
  "vscode": {
   "interpreter": {
    "hash": "aee8b7b246df8f9039afb4144a1f6fd8d2ca17a180786b69acc140d282b71a49"
   }
  }
 },
 "nbformat": 4,
 "nbformat_minor": 2
}
